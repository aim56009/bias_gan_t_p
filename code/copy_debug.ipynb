{
 "cells": [
  {
   "cell_type": "markdown",
   "metadata": {
    "colab_type": "text",
    "id": "view-in-github"
   },
   "source": [
    "<a href=\"https://colab.research.google.com/github/aim56009/Bias_GAN/blob/master/code/tas_prec_gan.ipynb\" target=\"_parent\"><img src=\"https://colab.research.google.com/assets/colab-badge.svg\" alt=\"Open In Colab\"/></a>"
   ]
  },
  {
   "cell_type": "markdown",
   "metadata": {
    "id": "h3yHWmlizCSY"
   },
   "source": [
    "# Imports "
   ]
  },
  {
   "cell_type": "code",
   "execution_count": 1,
   "metadata": {},
   "outputs": [],
   "source": [
    "is_colab = False\n",
    "\n",
    "if is_colab==False:\n",
    "    colab_path = \"bias_gan_t_p/\"\n",
    "else:\n",
    "    colab_path = \"/content/gdrive/MyDrive/bias_gan_t_p\""
   ]
  },
  {
   "cell_type": "code",
   "execution_count": 2,
   "metadata": {},
   "outputs": [],
   "source": [
    "detrend_data = False"
   ]
  },
  {
   "cell_type": "code",
   "execution_count": 3,
   "metadata": {
    "id": "UtBBY2Vx4kVx"
   },
   "outputs": [
    {
     "data": {
      "text/plain": [
       "\"\\ngpu_info = !nvidia-smi\\ngpu_info = '\\n'.join(gpu_info)\\nif gpu_info.find('failed') >= 0:\\n  print('Not connected to a GPU')\\nelse:\\n  print(gpu_info)\\n\""
      ]
     },
     "execution_count": 3,
     "metadata": {},
     "output_type": "execute_result"
    }
   ],
   "source": [
    "\"\"\"\n",
    "gpu_info = !nvidia-smi\n",
    "gpu_info = '\\n'.join(gpu_info)\n",
    "if gpu_info.find('failed') >= 0:\n",
    "  print('Not connected to a GPU')\n",
    "else:\n",
    "  print(gpu_info)\n",
    "\"\"\""
   ]
  },
  {
   "cell_type": "code",
   "execution_count": 4,
   "metadata": {},
   "outputs": [],
   "source": [
    "if is_colab == True:\n",
    "    from google.colab import drive\n",
    "    drive.mount(\"/content/gdrive\")"
   ]
  },
  {
   "cell_type": "code",
   "execution_count": 5,
   "metadata": {},
   "outputs": [],
   "source": [
    "if is_colab == True:\n",
    "    !git clone https://github.com/aim56009/bias_gan_t_p.git"
   ]
  },
  {
   "cell_type": "code",
   "execution_count": 6,
   "metadata": {
    "id": "yg_fJ3Fi0rzt"
   },
   "outputs": [],
   "source": [
    "%%capture\n",
    "!pip install pytorch_lightning\n",
    "from pytorch_lightning.loggers import TensorBoardLogger\n",
    "!pip install basemap\n",
    "!pip install importlib-metadata==4.0.1\n",
    "!pip install xarray==0.18.1\n",
    "!pip install torchvision\n",
    "!pip install cftime"
   ]
  },
  {
   "cell_type": "code",
   "execution_count": 7,
   "metadata": {},
   "outputs": [],
   "source": [
    "if is_colab == False:\n",
    "    import os\n",
    "    os.chdir('/dss/dsshome1/0D/ge74xuf2/')"
   ]
  },
  {
   "cell_type": "code",
   "execution_count": 8,
   "metadata": {
    "id": "ctpYd5RO0GJ3"
   },
   "outputs": [
    {
     "name": "stderr",
     "output_type": "stream",
     "text": [
      "/opt/conda/lib/python3.8/site-packages/scipy/__init__.py:138: UserWarning: A NumPy version >=1.16.5 and <1.23.0 is required for this version of SciPy (detected version 1.23.5)\n",
      "  warnings.warn(f\"A NumPy version >={np_minversion} and <{np_maxversion} is required for this version of \"\n"
     ]
    }
   ],
   "source": [
    "import os\n",
    "import xarray as xr\n",
    "import torch\n",
    "import json\n",
    "import glob\n",
    "import torchvision\n",
    "import matplotlib.pyplot as plt\n",
    "import numpy as np\n",
    "import pytorch_lightning as pl\n",
    "import argparse\n",
    "import pathlib\n",
    "import cv2\n",
    "import matplotlib\n",
    "\n",
    "\n",
    "from tensorboard.backend.event_processing import event_accumulator\n",
    "from pytorch_lightning.callbacks import Callback\n",
    "from datetime import datetime\n",
    "from io import BytesIO\n",
    "from PIL import Image\n",
    "from dataclasses import dataclass, field\n",
    "from typing import List\n",
    "\n",
    "\n",
    "from bias_gan_t_p.code.src.model import CycleGAN, Generator, DataModule                     \n",
    "\n",
    "from bias_gan_t_p.code.src.data import TestData, CycleDataset\n",
    "from bias_gan_t_p.code.src.utils import get_version, set_environment, get_checkpoint_path, save_config, log_transform, inv_norm_transform, inv_log_transform, inv_norm_minus1_to_plus1_transform, norm_minus1_to_plus1_transform \n",
    "from bias_gan_t_p.code.src.plots import PlotAnalysis, plot_basemap\n",
    "from bias_gan_t_p.code.src.callbacks import get_cycle_gan_callbacks, MAE_Callback\n",
    "from bias_gan_t_p.code.src.inference import Inference, EvaluateCheckpoints, create_folder"
   ]
  },
  {
   "cell_type": "markdown",
   "metadata": {
    "id": "h3sTfmwpSezN"
   },
   "source": [
    "# Data.py"
   ]
  },
  {
   "cell_type": "code",
   "execution_count": 9,
   "metadata": {},
   "outputs": [],
   "source": [
    "#Config_adjusted_trafo = Config\n",
    "#nbr_reconstruction_examples = 1\n",
    "#Config_adjusted_trafo.transforms = Config_adjusted_trafo.transformations\n",
    "#dataset = CycleDataset('train', Config_adjusted_trafo)"
   ]
  },
  {
   "cell_type": "code",
   "execution_count": 10,
   "metadata": {},
   "outputs": [],
   "source": [
    "#datamodule = DataModule(Config, training_batch_size = Config.train_batch_size, test_batch_size = Config.test_batch_size)\n",
    "#datamodule.setup(\"fit\")\n",
    "#train_loader = datamodule.train_dataloader()\n",
    "\n",
    "#for batch_idx, data in enumerate(train_loader):\n",
    "#    print(data[\"A\"])\n",
    "#    print(data[\"B\"])"
   ]
  },
  {
   "cell_type": "code",
   "execution_count": 11,
   "metadata": {
    "id": "HHb0dnst_Lpq"
   },
   "outputs": [],
   "source": [
    "#track_lat_mean = True\n",
    "#plt_hist=True\n",
    "#accelerator= \"gpu\"\n",
    "\n",
    "#train_cycle_gan(Config(),validation=False,track_lat_mean=track_lat_mean,plt_hist=plt_hist)"
   ]
  },
  {
   "cell_type": "markdown",
   "metadata": {
    "id": "BDZR-hows48Z"
   },
   "source": [
    "# Main training loop"
   ]
  },
  {
   "cell_type": "markdown",
   "metadata": {
    "id": "AtINdQOafvRG"
   },
   "source": [
    "## define MAE callback"
   ]
  },
  {
   "cell_type": "code",
   "execution_count": 12,
   "metadata": {
    "id": "KpchPItBC6E6"
   },
   "outputs": [],
   "source": [
    "class MAE_Callback(Callback):\n",
    "    def __init__(self,logger,checkpoint_path,config, validation=True, lat_mean=False, plt_hist=False):\n",
    "        self.MAE_list_pr = []\n",
    "        self.MAE_list_t = []\n",
    "        self.logger = logger\n",
    "        self.checkpoint_path = checkpoint_path\n",
    "        self.config = config\n",
    "        self.version = get_version(config.date,config.time)\n",
    "        self.validation = validation\n",
    "        self.lat_mean = lat_mean\n",
    "        self.plt_hist = plt_hist\n",
    "        \n",
    "\n",
    "    def on_train_epoch_end(self, trainer, pl_module):\n",
    "        checkpoint_files = glob.glob(str(self.checkpoint_path) + '/*.ckpt')\n",
    "        if not checkpoint_files:\n",
    "            test_data_ = None\n",
    "        else:\n",
    "            last_checkpoint = max(checkpoint_files, key=os.path.getctime)\n",
    "            data = EvaluateCheckpoints(checkpoint_path=last_checkpoint, config_path=self.config.config_path + self.version + \"/config_model.json\", save_model=True,validation=self.validation, version=self.version)\n",
    "            _, reconstruction_data = data.run()\n",
    "            test_data_ = data.get_test_data()\n",
    "\n",
    "\n",
    "        if test_data_ is None or not test_data_:\n",
    "            print(\"No test data available.\")\n",
    "            return\n",
    "\n",
    "        gan_data = getattr(test_data_, 'gan')\n",
    "        era5_data = getattr(test_data_, \"era5\")\n",
    "        \n",
    "        bias_pr = gan_data.precipitation.mean('time') - era5_data.precipitation.mean('time') \n",
    "        print(\"GAN-OBS precipitation\",f\" \\t \\t MAE: {abs(bias_pr).values.mean():2.3f} [mm/d]\")\n",
    "        self.MAE_list_pr.append(abs(bias_pr).values.mean())\n",
    "        print(\"MAE_list precipitation:\",self.MAE_list_pr)\n",
    "        self.log('MAE p', abs(bias_pr).values.mean())\n",
    "        print(\"\")\n",
    "        bias_t = gan_data.tas.mean('time') - era5_data.tas.mean('time') \n",
    "        print(\"GAN-OBS tas\",f\" \\t \\t MAE: {abs(bias_t).values.mean():2.3f} [K]\")\n",
    "        self.MAE_list_t.append(abs(bias_t).values.mean())\n",
    "        print(\"MAE_list tas:\",self.MAE_list_t)\n",
    "        self.log('MAE t', abs(bias_t).values.mean())\n",
    "        print(\"\")\n",
    "\n",
    "        if test_data_ is not None and self.lat_mean==True:\n",
    "            data_era5_pr = era5_data.precipitation.mean(dim=(\"longitude\", \"time\"))\n",
    "            data_era5_t = era5_data.tas.mean(dim=(\"lon\", \"time\"))\n",
    "            \n",
    "            data_gan_pr= gan_data.precipitation.mean(dim=(\"longitude\", \"time\"))\n",
    "            data_gan_t= gan_data.tas.mean(dim=(\"longitude\", \"time\"))\n",
    "            \n",
    "            plt.figure()\n",
    "            \n",
    "            plt.plot(data_gan_pr.latitude, data_gan_pr.data,\n",
    "                      label=\"gan precipitation\",\n",
    "                      alpha=0.9,\n",
    "                      linestyle='-',\n",
    "                      linewidth=2,\n",
    "                      color=\"red\")\n",
    "            \n",
    "            plt.plot(data_era5_pr.latitude, data_era5_pr.data,\n",
    "                      label=\"era5 precipitation\",\n",
    "                      alpha=1,\n",
    "                      linestyle='--',\n",
    "                      linewidth=2,\n",
    "                      color=\"black\")\n",
    "            \n",
    "            #plt.ylim(0,3)\n",
    "            plt.xlim(25,58)\n",
    "            plt.xlabel('Latitude')\n",
    "            plt.ylabel('Mean precipitation [mm/d]')\n",
    "            plt.grid()\n",
    "            plt.legend(loc='upper right')  \n",
    "            \n",
    "            buf = BytesIO()\n",
    "            plt.savefig(buf, format='png')\n",
    "            buf.seek(0)\n",
    "            im = Image.open(buf)\n",
    "            img = torchvision.transforms.ToTensor()(im)\n",
    "            \n",
    "            self.logger.experiment.add_image(f\"latitudinal_mean precipitation\", img, trainer.current_epoch)\n",
    "            \n",
    "            \n",
    "            ###\n",
    "            plt.figure()\n",
    "            \n",
    "            plt.plot(data_gan_t.latitude, data_gan_t.data,\n",
    "                      label=\"gan temperature\",\n",
    "                      alpha=0.9,\n",
    "                      linestyle='-',\n",
    "                      linewidth=2,\n",
    "                      color=\"red\")\n",
    "            \n",
    "            plt.plot(data_era5_t.lat, data_era5_t.data,\n",
    "                      label=\"era5 temperature\",\n",
    "                      alpha=1,\n",
    "                      linestyle='--',\n",
    "                      linewidth=2,\n",
    "                      color=\"black\")\n",
    "            \n",
    "            #plt.ylim(0,3)\n",
    "            plt.xlim(25,58)\n",
    "            plt.xlabel('Latitude')\n",
    "            plt.ylabel('Mean temperature [K]')\n",
    "            plt.grid()\n",
    "            plt.legend(loc='upper right')\n",
    "            #plt.show()\n",
    "            ###\n",
    "            \n",
    "            buf = BytesIO()\n",
    "            plt.savefig(buf, format='png')\n",
    "            buf.seek(0)\n",
    "            im = Image.open(buf)\n",
    "            img = torchvision.transforms.ToTensor()(im)\n",
    "            \n",
    "            self.logger.experiment.add_image(f\"latitudinal_mean temperature\", img, trainer.current_epoch)\n",
    "\n",
    "        if test_data_ is not None and self.plt_hist==True:\n",
    "            data_gan_pr = getattr(test_data_, \"gan\").precipitation.values.flatten()\n",
    "            data_era5_pr = getattr(test_data_, \"era5\").precipitation.values.flatten()\n",
    "            plt.figure()\n",
    "            _ = plt.hist(data_gan_pr,\n",
    "                        bins=100,\n",
    "                        histtype='step',\n",
    "                        log=True,\n",
    "                        label=\"gan\",\n",
    "                        alpha=0.9,\n",
    "                        density=True,\n",
    "                        linewidth=2,\n",
    "                        color=\"red\")\n",
    "            \n",
    "            _ = plt.hist(data_era5_pr,\n",
    "                        bins=100,\n",
    "                        histtype='step',\n",
    "                        log=True,\n",
    "                        label=\"era5\",\n",
    "                        alpha=1,\n",
    "                        density=True,\n",
    "                        linewidth=2,\n",
    "                        color=\"black\")\n",
    "\n",
    "            plt.xlabel('Precipitation [mm/d]')\n",
    "            plt.ylabel('Histogram')\n",
    "            #plt.xlim(0,400)\n",
    "            plt.grid()\n",
    "            plt.legend(loc='upper right')\n",
    "\n",
    "            #plt.show()\n",
    "            buf = BytesIO()\n",
    "            plt.savefig(buf, format='png')\n",
    "            buf.seek(0)\n",
    "            im_ = Image.open(buf)\n",
    "            img_ = torchvision.transforms.ToTensor()(im_)\n",
    "            \n",
    "            self.logger.experiment.add_image(f\"histogram precipitation\", img_, trainer.current_epoch)\n",
    "            \n",
    "            \n",
    "            data_gan_t = getattr(test_data_, \"gan\").tas.values.flatten()\n",
    "            data_era5_t = getattr(test_data_, \"era5\").tas.values.flatten()\n",
    "            plt.figure()\n",
    "            _ = plt.hist(data_gan_t,\n",
    "                        bins=100,\n",
    "                        histtype='step',\n",
    "                        log=True,\n",
    "                        label=\"gan\",\n",
    "                        alpha=0.9,\n",
    "                        density=True,\n",
    "                        linewidth=2,\n",
    "                        color=\"red\")\n",
    "            \n",
    "            _ = plt.hist(data_era5_t,\n",
    "                        bins=100,\n",
    "                        histtype='step',\n",
    "                        log=True,\n",
    "                        label=\"era5\",\n",
    "                        alpha=1,\n",
    "                        density=True,\n",
    "                        linewidth=2,\n",
    "                        color=\"black\")\n",
    "\n",
    "            plt.xlabel('Temperature [K]')\n",
    "            plt.ylabel('Histogram')\n",
    "            #plt.xlim(0,400)\n",
    "            plt.grid()\n",
    "            plt.legend(loc='upper right')\n",
    "\n",
    "            #plt.show()\n",
    "            buf = BytesIO()\n",
    "            plt.savefig(buf, format='png')\n",
    "            buf.seek(0)\n",
    "            im_ = Image.open(buf)\n",
    "            img_ = torchvision.transforms.ToTensor()(im_)\n",
    "            \n",
    "            self.logger.experiment.add_image(f\"histogram\", img_, trainer.current_epoch)"
   ]
  },
  {
   "cell_type": "markdown",
   "metadata": {
    "id": "RO0_lUBIfzaH"
   },
   "source": [
    "## Train Cycle GAN"
   ]
  },
  {
   "cell_type": "code",
   "execution_count": 13,
   "metadata": {
    "id": "efWHPrX2Ck9K"
   },
   "outputs": [],
   "source": [
    "def train_cycle_gan(config, pretrain_path=False,validation=True,track_lat_mean=False,plt_hist=False ):\n",
    "    \"\"\" Main routing to train the Cycle GAN \"\"\"\n",
    "\n",
    "    config = Config()\n",
    "    global version\n",
    "    version = get_version(config.date,config.time)\n",
    "    print(f'Running model: {version}')\n",
    "    checkpoint_path = get_checkpoint_path(config, version)\n",
    "    set_environment()\n",
    "\n",
    "    tb_logger = TensorBoardLogger(config.tensorboard_path,name=\"\",version=version,default_hp_metric=False)\n",
    "    \n",
    "    \n",
    "    create_folder(f\"{colab_path}results/{version}\")\n",
    "\n",
    "    save_config(config, version)\n",
    "    \n",
    "    mse_callback = MAE_Callback(tb_logger,checkpoint_path,config,validation,lat_mean=track_lat_mean,plt_hist=plt_hist)\n",
    "    \n",
    "    \n",
    "    trainer = pl.Trainer(callbacks=[mse_callback] + get_cycle_gan_callbacks(checkpoint_path),\n",
    "                         devices=1,\n",
    "                         max_epochs = config.epochs,\n",
    "                         precision = 16, \n",
    "                         num_sanity_val_steps = 1,\n",
    "                         logger = tb_logger,\n",
    "                         log_every_n_steps = config.log_every_n_steps,\n",
    "                         deterministic = False,\n",
    "                         accelerator=accelerator,\n",
    "                         enable_model_summary=False) \n",
    "    \n",
    "\n",
    "    datamodule = DataModule(config, training_batch_size = config.train_batch_size, test_batch_size = config.test_batch_size)\n",
    "    datamodule.setup(\"fit\")\n",
    "    \n",
    "    \n",
    "    if pretrain_path==False:\n",
    "        print(\"no pretraining\")\n",
    "        if config.epochs==1:\n",
    "            model = CycleGAN(d_lr=config.d_lr, g_lr=config.g_lr, beta_1=config.beta_1, beta_2=config.beta_2,\n",
    "                           epoch_decay = config.epochs,running_bias=config.running_bias,\n",
    "                           num_resnet_blocks=config.num_resnet_layer, default_nbr_resnet=config.default_nbr_resnet)\n",
    "        else:\n",
    "            model = CycleGAN(d_lr=config.d_lr, g_lr=config.g_lr, beta_1=config.beta_1, beta_2=config.beta_2,\n",
    "                           epoch_decay = config.epochs // 2,running_bias=config.running_bias,\n",
    "                           num_resnet_blocks=config.num_resnet_layer, default_nbr_resnet=config.default_nbr_resnet)\n",
    "\n",
    "    else:\n",
    "        print(\"using pretrained model with path:\",pretrain_path)\n",
    "        model = CycleGAN(d_lr=config.d_lr, g_lr=config.g_lr, beta_1=config.beta_1, beta_2=config.beta_2,\n",
    "                       epoch_decay = config.epochs // 2, running_bias=config.running_bias,\n",
    "                       num_resnet_blocks=config.num_resnet_layer, \n",
    "                       default_nbr_resnet=config.default_nbr_resnet).load_from_checkpoint(pretrain_path)\n",
    "\n",
    "    trainer.fit(model, datamodule)\n",
    "\n",
    "    print('Training finished')\n",
    "    return model"
   ]
  },
  {
   "cell_type": "markdown",
   "metadata": {
    "id": "Bq-nYOq2tAfe"
   },
   "source": [
    "# Config"
   ]
  },
  {
   "cell_type": "code",
   "execution_count": 14,
   "metadata": {
    "id": "RDSas-G6yYG1"
   },
   "outputs": [],
   "source": [
    "@dataclass\n",
    "class Config:\n",
    "    \"\"\" \n",
    "    Training configuration parameters. For model evaluation parameters see\n",
    "    src/configuration.py.\n",
    "    \"\"\"\n",
    "    \n",
    "    scratch_path: str = f'{colab_path}results'\n",
    "    tensorboard_path: str = f'{scratch_path}/'\n",
    "    checkpoint_path: str = f'{scratch_path}/'\n",
    "    config_path: str = f'{scratch_path}/'\n",
    "    \n",
    "    #if detrend_data==True:\n",
    "    #    model_pr_path: str = f\"{colab_path}data/detrend_pr_gfdl-esm4_historical_regionbox_1979-2014.nc\"\n",
    "    #    era5_pr_path: str = f\"{colab_path}data/detrend_pr_W5E5v2.0_regionbox_era5_1979-2014.nc\"\n",
    "    #    model_t_path: str = f\"{colab_path}data/detrend_tas_gfdl-esm4_historical_regionbox_1979-2014.nc\"\n",
    "    #    era5_t_path: str = f\"{colab_path}data/detrend_tas_W5E5v2.0_regionbox_1979-2014.nc\"\n",
    "    \n",
    "    if detrend_data==False:\n",
    "        model_pr_path: str = f\"{colab_path}data/pr_gfdl-esm4_historical_regionbox_1979-2014.nc\"\n",
    "        era5_pr_path: str = f\"{colab_path}data/pr_W5E5v2.0_regionbox_era5_1979-2014.nc\"\n",
    "        model_t_path: str = f\"{colab_path}data/tas_gfdl-esm4_historical_regionbox_1979-2014.nc\"\n",
    "        era5_t_path: str = f\"{colab_path}data/tas_W5E5v2.0_regionbox_1979-2014.nc\"\n",
    "       \n",
    "\n",
    "    results_path: str = f'{scratch_path}/'\n",
    "    projection_path: str = None\n",
    "\n",
    "    train_start: int = 1979\n",
    "    train_end: int = 2000 #2000 \n",
    "    valid_start: int = 2001 #was 2001\n",
    "    valid_end: int = 2004\n",
    "    test_start: int = 2004\n",
    "    test_end: int = 2014\n",
    "    \n",
    "    model_name: str = 'tibet_gan'\n",
    "\n",
    "    epochs: int = 2 # set to 250 for reproduction\n",
    "    train_batch_size: int = 1\n",
    "    test_batch_size: int = 64\n",
    "    transforms: List = field(default_factory=lambda: ['log', 'normalize_minus1_to_plus1'])\n",
    "    transformations = ['log', 'normalize_minus1_to_plus1']\n",
    "    rescale: bool = False\n",
    "    epsilon: float = 0.001 #0.0001\n",
    "    lazy: bool = False\n",
    "    log_every_n_steps: int = 10 ### was 10\n",
    "    norm_output: bool = True\n",
    "    running_bias: bool = False\n",
    "\n",
    "    d_lr = 2e-4\n",
    "    g_lr = 2e-4\n",
    "    beta_1 = 0.5\n",
    "    beta_2 = 0.999\n",
    "    epoch_decay = 200\n",
    "    \n",
    "\n",
    "    time = datetime.now().time().strftime(\"%Hh_%Mm_%Ss\")\n",
    "    date = datetime.now().date().strftime(\"%Y_%m_%d\")\n",
    "    \n",
    "    default_nbr_resnet=True\n",
    "    num_resnet_layer=6\n",
    "\n",
    "\n",
    "def main():\n",
    "    _ = train_cycle_gan(Config())"
   ]
  },
  {
   "cell_type": "markdown",
   "metadata": {
    "id": "BuE3z8TfEMhH"
   },
   "source": [
    "#Run"
   ]
  },
  {
   "cell_type": "code",
   "execution_count": 15,
   "metadata": {},
   "outputs": [
    {
     "name": "stdout",
     "output_type": "stream",
     "text": [
      "training on detrended data: False\n"
     ]
    }
   ],
   "source": [
    "print(\"training on detrended data:\", detrend_data)"
   ]
  },
  {
   "cell_type": "code",
   "execution_count": 16,
   "metadata": {
    "id": "Cid_5UwLyttz",
    "scrolled": false
   },
   "outputs": [
    {
     "name": "stdout",
     "output_type": "stream",
     "text": [
      "training on detrended data: False\n"
     ]
    }
   ],
   "source": [
    "do_training = False\n",
    "from_skratch = True\n",
    "\n",
    "track_lat_mean = True\n",
    "plt_hist=True\n",
    "\n",
    "runtime_instance = \"2023_02_24_17h_27m_29s\"\n",
    "\n",
    "print(\"training on detrended data:\", detrend_data)\n",
    "\n",
    "if do_training == True:\n",
    "    accelerator= \"gpu\"\n",
    "\n",
    "    if from_skratch == True:\n",
    "        train_cycle_gan(Config(),validation=False,track_lat_mean=track_lat_mean,plt_hist=plt_hist)\n",
    "        \n",
    "\n",
    "    if from_skratch == False:\n",
    "        train_cycle_gan(Config(),f\"{colab_path}results/{runtime_instance}/last.ckpt\",validation=True,track_lat_mean=track_lat_mean,plt_hist=plt_hist)"
   ]
  },
  {
   "cell_type": "markdown",
   "metadata": {
    "id": "2adJLjPo-15I"
   },
   "source": [
    "# Evaluation"
   ]
  },
  {
   "cell_type": "markdown",
   "metadata": {
    "id": "VGpAmsXwFzjS"
   },
   "source": [
    "## Run Evaluation\n"
   ]
  },
  {
   "cell_type": "code",
   "execution_count": 17,
   "metadata": {
    "id": "LeBFJMy3-NSq"
   },
   "outputs": [],
   "source": [
    "if do_training==False: \n",
    "  version_ = runtime_instance\n",
    "else:\n",
    "  version_ = version\n",
    "\n",
    "\n",
    "checkpoint_path = f\"{colab_path}results/{version_}/last.ckpt\" \n",
    "config_path = f\"{colab_path}results/{version_}/config_model.json\"\n",
    "\n",
    "data = EvaluateCheckpoints(checkpoint_path=checkpoint_path, config_path=config_path, save_model=True, version=version_)"
   ]
  },
  {
   "cell_type": "code",
   "execution_count": 18,
   "metadata": {
    "id": "2VuJjIiTjpnf"
   },
   "outputs": [
    {
     "name": "stdout",
     "output_type": "stream",
     "text": [
      "Start inference:\n",
      "MODE: TESTING\n",
      "calling get_netcdf_result\n",
      "saving model to path: 2023_02_24_17h_27m_29s/gan.nc\n",
      "\n",
      "Test set period: 2004-01-01T00:00:00.000000000 - 2014-12-31T00:00:00.000000000\n",
      "\n",
      "Mean precipitation [mm/d]:\n",
      "ERA5: 1.017\n",
      "Climate Model: 1.017\n",
      "GAN:  0.883\n",
      "\n",
      "Mean temperature [K]:\n",
      "ERA5: 281.394\n",
      "Climate Model: 281.420\n",
      "GAN:  279.048\n"
     ]
    }
   ],
   "source": [
    "test_data, reconstruct_data = data.run()\n",
    "test_data = data.get_test_data()"
   ]
  },
  {
   "cell_type": "code",
   "execution_count": null,
   "metadata": {},
   "outputs": [],
   "source": []
  },
  {
   "cell_type": "code",
   "execution_count": null,
   "metadata": {},
   "outputs": [],
   "source": []
  }
 ],
 "metadata": {
  "accelerator": "GPU",
  "colab": {
   "collapsed_sections": [
    "BDZR-hows48Z",
    "We_xzajk-9xY",
    "bgA1wp1y-yxZ",
    "ecz59xDYFx7c"
   ],
   "include_colab_link": true,
   "machine_shape": "hm",
   "provenance": []
  },
  "gpuClass": "premium",
  "kernelspec": {
   "display_name": "Python 3 (ipykernel)",
   "language": "python",
   "name": "python3"
  },
  "language_info": {
   "codemirror_mode": {
    "name": "ipython",
    "version": 3
   },
   "file_extension": ".py",
   "mimetype": "text/x-python",
   "name": "python",
   "nbconvert_exporter": "python",
   "pygments_lexer": "ipython3",
   "version": "3.8.12"
  }
 },
 "nbformat": 4,
 "nbformat_minor": 1
}
